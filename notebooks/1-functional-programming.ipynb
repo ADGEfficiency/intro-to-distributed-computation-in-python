{
 "cells": [
  {
   "cell_type": "markdown",
   "id": "544d29f8-956f-405a-8ccb-68313153b7ad",
   "metadata": {
    "tags": []
   },
   "source": [
    "# Introduction to Functional Programming"
   ]
  },
  {
   "cell_type": "markdown",
   "id": "35fa2ed8-87ee-4adf-b79b-c59c2679b9b3",
   "metadata": {
    "tags": []
   },
   "source": [
    "## Outcomes\n",
    "\n",
    "- understand what functional programming is,\n",
    "- know how to use `map`, `filter`, `reduce`,\n",
    "- understand what lazy computation & lambda functions are.\n",
    "\n",
    "\n",
    "## Why learn about functional programming in a course on distributed computation?\n",
    "\n",
    "Functional programming concepts (such as map, filter, and reduce) are the atomic operations of many distributed computing frameworks - the best example being MapReduce.\n",
    "\n",
    "An example we will become familar with is **mapping over a pool of processes**:\n",
    "\n",
    "```python\n",
    "from multiprocessing import Pool\n",
    "\n",
    "with Pool(popsize, maxtasksperchild=32) as pool:\n",
    "    results = p.starmap(episode, zip(population, seeds))\n",
    "```\n",
    "\n",
    "\n",
    "# What is Functional Programming?\n",
    "\n",
    "Functional programming ideals/goals/principles:\n",
    "\n",
    "1. no side effects,\n",
    "2. variables don't vary,\n",
    "3. first class functions.\n",
    "\n",
    "Expressing a program with pure functions avoids internal state & multiple entry points - things that make programming harder ([John Carmack](http://sevangelatos.com/john-carmack-on-parallel-implementations/)).\n",
    "\n",
    "Functional programming also encourages functional decomposition - structuring a program with functions to reduce code re-use & improve readability.\n",
    "\n",
    "\n",
    "## Context with other programming languages\n",
    "\n",
    "Many programming languages are **procedural** & **imperative**:\n",
    "\n",
    "- say both what you want and how to do it,\n",
    "- specify the problem to be solved & how to solve it,\n",
    "- explicitly program & control how a program runs (loops, variables etc),\n",
    "- examples include Python, Javascript and C.\n",
    "\n",
    "Another approach is **declarative**:\n",
    "\n",
    "- say what you want - not how,\n",
    "- specify the problem to be solved,\n",
    "- do not specify how to solve it,\n",
    "- examples include HTML & SQL.\n",
    "\n",
    "**Functional programming is declarative** - it is about **what you want**.  The mechanics of the how (such as sequential or parallel execution) can be hidden in a functional program (see `pool.map`).\n",
    "\n",
    "\n",
    "## 1. No Side Effects\n",
    "\n",
    "Things always run / perform the same way:\n",
    "\n",
    "- no dependency on the state of the outside world,\n",
    "- nothing can happen to make our program run differently,\n",
    "- same inputs = same outputs.\n",
    "\n",
    "This is **idempotency** - that your Nth time running a function should return the same thing as the first time.  \n",
    "\n",
    "No matter how many times you call the function, the result is the same.\n",
    "\n",
    "Same inputs always give the same outputs.\n",
    "\n",
    "### Example - two ways to close a door\n",
    "\n",
    "We can close a door using a toggle:"
   ]
  },
  {
   "cell_type": "code",
   "execution_count": 1,
   "id": "88320aa9-b066-4fba-ba3b-05e6958f5f6c",
   "metadata": {},
   "outputs": [
    {
     "name": "stdout",
     "output_type": "stream",
     "text": [
      "Door(position='closed')\n",
      "Door(position='open')\n",
      "Door(position='closed')\n",
      "Door(position='open')\n",
      "Door(position='closed')\n"
     ]
    }
   ],
   "source": [
    "import dataclasses\n",
    "\n",
    "@dataclasses.dataclass\n",
    "class Door:\n",
    "    position: str\n",
    "\n",
    "def toggle(door: Door):\n",
    "    if door.position == 'open':\n",
    "        door.position = 'closed'\n",
    "        \n",
    "    elif door.position == 'closed':\n",
    "        door.position = 'open'\n",
    "        \n",
    "    else:\n",
    "        pass\n",
    "        \n",
    "    return door\n",
    "            \n",
    "door = Door('open')\n",
    "for _ in range(5):\n",
    "    door = toggle(door)\n",
    "    print(door)"
   ]
  },
  {
   "cell_type": "markdown",
   "id": "b08becb3-4276-4b9c-a186-895e3da4549a",
   "metadata": {},
   "source": [
    "Closing a door with a toggle is not idempotent - the result of our action is different depending on state held in the door position.\n",
    "\n",
    "Another way to close a door is to always lock - which is idempotent:"
   ]
  },
  {
   "cell_type": "code",
   "execution_count": 2,
   "id": "cbd8bfd2-6525-4e68-a23d-627914ef2c59",
   "metadata": {},
   "outputs": [
    {
     "name": "stdout",
     "output_type": "stream",
     "text": [
      "Door(position='closed')\n",
      "Door(position='closed')\n",
      "Door(position='closed')\n",
      "Door(position='closed')\n",
      "Door(position='closed')\n"
     ]
    }
   ],
   "source": [
    "def close(door: Door):\n",
    "    if door.position == 'open':\n",
    "        door.position = 'closed'\n",
    "    return door\n",
    "            \n",
    "door = Door('open')\n",
    "for _ in range(5):\n",
    "    door = close(door)\n",
    "    print(door)"
   ]
  },
  {
   "cell_type": "markdown",
   "id": "79c559cb-e630-473a-9b04-518d08228bf0",
   "metadata": {},
   "source": [
    "This second, idempontent version of the program no longer depends on the state of the door. \n",
    "\n",
    "The `close` action will always result in a closed door."
   ]
  },
  {
   "cell_type": "markdown",
   "id": "87f070fb-578e-4891-a370-136e56941bdc",
   "metadata": {},
   "source": [
    "## 2. Variables don't vary\n",
    "\n",
    "Variables are only ever initialized - they are never changed.  All data is immutable.\n",
    "\n",
    "We can demonstrate the inverse of this principle by showing how data mutation causes a problem:"
   ]
  },
  {
   "cell_type": "code",
   "execution_count": 3,
   "id": "6f24543c-b1e2-449d-b98b-8e0bbd583b7e",
   "metadata": {},
   "outputs": [
    {
     "name": "stdout",
     "output_type": "stream",
     "text": [
      "{'stage': 'processed', 'pkg': 'some-data'}\n"
     ]
    }
   ],
   "source": [
    "def pipeline(data):\n",
    "    data['stage'] = 'processed'\n",
    "    return data\n",
    "\n",
    "raw = {'stage': 'raw', 'pkg': 'some-data'}\n",
    "processed = pipeline(raw)\n",
    "\n",
    "#  our data processing has corrupted & mutated our raw data\n",
    "print(raw)"
   ]
  },
  {
   "cell_type": "code",
   "execution_count": 4,
   "id": "a3b3aa72-6d13-4d4b-ba0f-f688f1a8f64c",
   "metadata": {},
   "outputs": [
    {
     "name": "stdout",
     "output_type": "stream",
     "text": [
      "{'stage': 'raw', 'pkg': 'some-data'}\n"
     ]
    }
   ],
   "source": [
    "def immutable_pipeline(data):\n",
    "    processed = {\n",
    "        'stage': 'processed',\n",
    "        'pkg': data['pkg']\n",
    "    }\n",
    "    return processed\n",
    "\n",
    "raw = {'stage': 'raw', 'pkg': 'some-data'}\n",
    "processed = immutable_pipeline(raw)\n",
    "\n",
    "#  here our raw data remains the same - immutable\n",
    "print(raw)"
   ]
  },
  {
   "cell_type": "markdown",
   "id": "9c49a977-d332-497f-ab35-b5b3df09e9c2",
   "metadata": {},
   "source": [
    "In the age of cheap storage in data lakes, taking the approach of saving data (ie state) in between each stage of a data pipeline is economic."
   ]
  },
  {
   "cell_type": "markdown",
   "id": "af0a9fa6-192f-4603-b53e-827ade00f5d9",
   "metadata": {},
   "source": [
    "## 3. First class functions\n",
    "\n",
    "This is a feature of programming languages - a language with first class functions is one where functions can be passed around as objects:"
   ]
  },
  {
   "cell_type": "code",
   "execution_count": 5,
   "id": "54ba3381-8718-4886-bab4-6dc2ce84a21c",
   "metadata": {},
   "outputs": [
    {
     "name": "stdout",
     "output_type": "stream",
     "text": [
      "6 3\n"
     ]
    }
   ],
   "source": [
    "def controller(func, data):\n",
    "    return func(data)\n",
    "\n",
    "data = [1, 2, 3]\n",
    "print(controller(sum, data), controller(len, data))"
   ]
  },
  {
   "cell_type": "markdown",
   "id": "e98dbbc5-c4a3-4333-a98d-f7c980583e97",
   "metadata": {
    "tags": []
   },
   "source": [
    "# Map, Lambda Functions & Lazy Computation"
   ]
  },
  {
   "cell_type": "markdown",
   "id": "cb95a3b4-bdfb-499f-acee-5b191176c01c",
   "metadata": {
    "tags": []
   },
   "source": [
    "Mapping takes an iterable and apply a function to each element.\n",
    "\n",
    "A map operation is functionally the same as a `for` loop, or `df.apply` in `pandas`.\n",
    "\n",
    "We can run a function on each element of a list using a `for` loop:"
   ]
  },
  {
   "cell_type": "code",
   "execution_count": 6,
   "id": "8876af20-a5c6-4d08-ba65-d48fa2842ece",
   "metadata": {},
   "outputs": [
    {
     "data": {
      "text/plain": [
       "['berlin', 'auckland', 'london', 'christchurch']"
      ]
     },
     "execution_count": 6,
     "metadata": {},
     "output_type": "execute_result"
    }
   ],
   "source": [
    "def lower(s):\n",
    "    return s.lower()\n",
    "\n",
    "cities = ['Berlin', 'Auckland', 'London', 'Christchurch']\n",
    "[lower(s) for s in cities]"
   ]
  },
  {
   "cell_type": "markdown",
   "id": "606450ad-0212-472f-b86f-20af3f80318b",
   "metadata": {},
   "source": [
    "We can achieve the same result with the Python built-in `map`.\n",
    "\n",
    "Calling `map` with our function (that we want to apply to each element) and iterable returns a `map` generator - an example of **lazy computation**:"
   ]
  },
  {
   "cell_type": "code",
   "execution_count": 7,
   "id": "74537650-294e-4b5f-bbbe-bcad3097afc0",
   "metadata": {},
   "outputs": [
    {
     "data": {
      "text/plain": [
       "<map at 0x1287873d0>"
      ]
     },
     "execution_count": 7,
     "metadata": {},
     "output_type": "execute_result"
    }
   ],
   "source": [
    "lazy = map(lower, cities)\n",
    "lazy"
   ]
  },
  {
   "cell_type": "markdown",
   "id": "14586d0e-a8d8-4317-aae9-191060b83894",
   "metadata": {},
   "source": [
    "As we are more impatient than lazy, we can get all the processed data by calling `list` on our generator:"
   ]
  },
  {
   "cell_type": "code",
   "execution_count": 8,
   "id": "14101c99-b393-403c-891f-766cdf0e88a6",
   "metadata": {},
   "outputs": [
    {
     "data": {
      "text/plain": [
       "['berlin', 'auckland', 'london', 'christchurch']"
      ]
     },
     "execution_count": 8,
     "metadata": {},
     "output_type": "execute_result"
    }
   ],
   "source": [
    "list(lazy)"
   ]
  },
  {
   "cell_type": "markdown",
   "id": "874f28ff-7fa2-4b68-b3ae-8112cda02c69",
   "metadata": {
    "tags": []
   },
   "source": [
    "## Lambda functions\n",
    "\n",
    "Lambda functions are anonymous - they are functions without a name - there is no variable that refers to the function.\n",
    "\n",
    "Lambda functions are built on the fly - there is no functional difference between a defining the function or use an anonymous function (same as no function difference between `map` & `for` loop).\n",
    "\n",
    "We can rewrite our data pipeline to use a lambda function - we still pass in our function & iterable, just this time our function is anonymous:"
   ]
  },
  {
   "cell_type": "code",
   "execution_count": 9,
   "id": "1fcd78da-6cb9-4316-93a2-96c184f039f2",
   "metadata": {},
   "outputs": [
    {
     "data": {
      "text/plain": [
       "['berlin', 'auckland', 'london', 'christchurch']"
      ]
     },
     "execution_count": 9,
     "metadata": {},
     "output_type": "execute_result"
    }
   ],
   "source": [
    "list(map(lambda x: x.lower(), cities))"
   ]
  },
  {
   "cell_type": "markdown",
   "id": "2bb3e760-1159-4f9e-a43e-6b3d8dd48f16",
   "metadata": {},
   "source": [
    "In a lambda function we define both the structure of the input, functionality & output:"
   ]
  },
  {
   "cell_type": "code",
   "execution_count": 10,
   "id": "0a322aa0-ad1c-4014-8e51-ff06a0e843e3",
   "metadata": {},
   "outputs": [
    {
     "data": {
      "text/plain": [
       "<function __main__.<lambda>(x)>"
      ]
     },
     "execution_count": 10,
     "metadata": {},
     "output_type": "execute_result"
    }
   ],
   "source": [
    "#  lambda that just returns input\n",
    "lambda x: x\n",
    "\n",
    "#  lambda that just returns input\n",
    "lambda name: name \n",
    "\n",
    "#  lambda that takes two inputs (ie a tuple) and sums them\n",
    "lambda x, y: x + y\n",
    "\n",
    "#  lambda that takes a dict as input:\n",
    "lambda x: x['key']"
   ]
  },
  {
   "cell_type": "markdown",
   "id": "8f6eab9a-7b7b-422d-aa2e-06603b3e2d79",
   "metadata": {},
   "source": [
    "We can also do more complex things in lambda functions, such as accessing elements of our input data.\n",
    "\n",
    "The pipeline below takes a tuple as input & accesses certain elements to perform computation on:"
   ]
  },
  {
   "cell_type": "code",
   "execution_count": 11,
   "id": "847ff6a8-364a-4e48-91d7-b300c2bb2729",
   "metadata": {},
   "outputs": [
    {
     "data": {
      "text/plain": [
       "[('Berlin', 3700.0),\n",
       " ('Auckland', 1700.0),\n",
       " ('London', 8900.0),\n",
       " ('Sheffield', 500.0),\n",
       " ('Christchurch', 380.0)]"
      ]
     },
     "execution_count": 11,
     "metadata": {},
     "output_type": "execute_result"
    }
   ],
   "source": [
    "from collections import namedtuple\n",
    "from helpers import get_populations\n",
    "\n",
    "populations = get_populations()\n",
    "\n",
    "list(map(lambda x: (x[0], x[1] * 1000), populations))"
   ]
  },
  {
   "cell_type": "markdown",
   "id": "adf82bad-f8fa-4b45-b9a3-f0717ad88236",
   "metadata": {},
   "source": [
    "When using `map` we have total flexibility around **what data structure we use as input** and **how we interact with it** in the function."
   ]
  },
  {
   "cell_type": "markdown",
   "id": "9b74be7f-54e9-4f75-a6c0-b53a3fecc2d9",
   "metadata": {
    "tags": []
   },
   "source": [
    "# Filter"
   ]
  },
  {
   "cell_type": "markdown",
   "id": "059b2f49-5e3a-4d4d-b970-ce2a7da0a8a5",
   "metadata": {},
   "source": [
    "Tests each element, keeps those that pass:"
   ]
  },
  {
   "cell_type": "code",
   "execution_count": 12,
   "id": "1bc9754e-b462-41d1-992d-813d2feecc17",
   "metadata": {},
   "outputs": [
    {
     "data": {
      "text/plain": [
       "[city(city='Berlin', population=3.7, continent='eu'),\n",
       " city(city='Auckland', population=1.7, continent='pac'),\n",
       " city(city='London', population=8.9, continent='eu')]"
      ]
     },
     "execution_count": 12,
     "metadata": {},
     "output_type": "execute_result"
    }
   ],
   "source": [
    "list(filter(lambda x: x[1] > 1.0, populations))"
   ]
  },
  {
   "cell_type": "markdown",
   "id": "454792e5-bf41-40b0-8385-a474005c4ab7",
   "metadata": {},
   "source": [
    "Equilivant program without `filter`:"
   ]
  },
  {
   "cell_type": "code",
   "execution_count": 13,
   "id": "9f1d07ec-56a3-49ae-95b5-13cf7f9f1103",
   "metadata": {},
   "outputs": [
    {
     "data": {
      "text/plain": [
       "[city(city='Berlin', population=3.7, continent='eu'),\n",
       " city(city='Auckland', population=1.7, continent='pac'),\n",
       " city(city='London', population=8.9, continent='eu')]"
      ]
     },
     "execution_count": 13,
     "metadata": {},
     "output_type": "execute_result"
    }
   ],
   "source": [
    "[city for city in populations if city[1] > 1.0]"
   ]
  },
  {
   "cell_type": "markdown",
   "id": "c2dbc9c6-e8a1-4323-aa90-4f9eb10670fd",
   "metadata": {
    "tags": []
   },
   "source": [
    "# Reduce"
   ]
  },
  {
   "cell_type": "markdown",
   "id": "18883166-6f1e-47a9-af10-7f46ab43dba5",
   "metadata": {},
   "source": [
    "\n",
    "Reduce is a form of data aggregation - aggregating data to a single value (or single values per group).\n",
    "\n",
    "For example, if we want to calculate the total populations of all our cities:"
   ]
  },
  {
   "cell_type": "code",
   "execution_count": 14,
   "id": "40c1be27-33ce-495e-8a06-fd3f29dab7e8",
   "metadata": {},
   "outputs": [
    {
     "data": {
      "text/plain": [
       "15.180000000000001"
      ]
     },
     "execution_count": 14,
     "metadata": {},
     "output_type": "execute_result"
    }
   ],
   "source": [
    "sum([city.population for city in populations])"
   ]
  },
  {
   "cell_type": "markdown",
   "id": "787e1b68-a056-4de4-90c1-25629f97e0e1",
   "metadata": {},
   "source": [
    "Another model for this computation (which is more similar to how `reduce` works) works by initializing a counter `total`.\n",
    "\n",
    "This counter `total` is is internal state passed around each time we iterate over our input data:"
   ]
  },
  {
   "cell_type": "code",
   "execution_count": 15,
   "id": "449282d6-e70e-4d06-ac33-3f0af0c77a1c",
   "metadata": {},
   "outputs": [
    {
     "data": {
      "text/plain": [
       "15.180000000000001"
      ]
     },
     "execution_count": 15,
     "metadata": {},
     "output_type": "execute_result"
    }
   ],
   "source": [
    "total = 0\n",
    "for p in populations:\n",
    "    total += p.population\n",
    "total"
   ]
  },
  {
   "cell_type": "markdown",
   "id": "1c6d6031-6bc4-42fa-9f3f-f205c39b2f4e",
   "metadata": {},
   "source": [
    "Reduce is NOT a Python built-in function - it's hidden away in `functools`.\n",
    "\n",
    "Using `reduce` is similar to `map` - we pass in a function & iterable - but with `reduce` we also pass in an initial accumulator value.\n",
    "\n",
    "This initial accumulator can be any data type - the flexibility to set the initial accumulator makes `reduce` flexible:"
   ]
  },
  {
   "cell_type": "code",
   "execution_count": 16,
   "id": "dfd6b7e4-83b0-41e9-b3b0-a578843c3a46",
   "metadata": {},
   "outputs": [
    {
     "name": "stdout",
     "output_type": "stream",
     "text": [
      "Object `reduce` not found.\n"
     ]
    }
   ],
   "source": [
    "reduce?"
   ]
  },
  {
   "cell_type": "code",
   "execution_count": 17,
   "id": "34fef646-8eae-4aaf-9d5f-e2302b8e8dd3",
   "metadata": {},
   "outputs": [
    {
     "data": {
      "text/plain": [
       "15.180000000000001"
      ]
     },
     "execution_count": 17,
     "metadata": {},
     "output_type": "execute_result"
    }
   ],
   "source": [
    "from functools import reduce\n",
    "\n",
    "def sum_population(total, city):\n",
    "    return total + city.population\n",
    "\n",
    "reduce(sum_population, populations, 0)"
   ]
  },
  {
   "cell_type": "code",
   "execution_count": 18,
   "id": "cbed3a25-656e-46b5-8489-234839c4ccf6",
   "metadata": {},
   "outputs": [
    {
     "data": {
      "text/plain": [
       "15.180000000000001"
      ]
     },
     "execution_count": 18,
     "metadata": {},
     "output_type": "execute_result"
    }
   ],
   "source": [
    "reduce(lambda total, pop: total + pop[1], populations, 0)"
   ]
  },
  {
   "cell_type": "markdown",
   "id": "2b0493c0-df3f-42cf-9147-01bbf72d58e2",
   "metadata": {},
   "source": [
    "We have complete control over how we iterate & aggregate.\n",
    "\n",
    "For example, we can perform a groupby - here just selecting cities by region:"
   ]
  },
  {
   "cell_type": "code",
   "execution_count": 19,
   "id": "72642d4e-6bd0-47d2-8d09-643455745014",
   "metadata": {},
   "outputs": [
    {
     "data": {
      "text/plain": [
       "{'eu': ['Berlin', 'London', 'Sheffield'], 'pac': ['Auckland', 'Christchurch']}"
      ]
     },
     "execution_count": 19,
     "metadata": {},
     "output_type": "execute_result"
    }
   ],
   "source": [
    "def group(acc, city):\n",
    "    acc[city.continent].append(city.city)\n",
    "    return acc\n",
    "\n",
    "reduce(\n",
    "    group,\n",
    "    populations,\n",
    "    {'eu': [], 'pac': []}\n",
    ")"
   ]
  },
  {
   "cell_type": "markdown",
   "id": "a7dcfe75-7c61-4704-b3cf-b1159c306496",
   "metadata": {
    "tags": []
   },
   "source": [
    "# Exercises\n",
    "\n"
   ]
  },
  {
   "cell_type": "markdown",
   "id": "35c3e742-027b-4b0b-bbaa-b1811684540e",
   "metadata": {
    "tags": []
   },
   "source": [
    "Now it's your turn ^^\n",
    "\n",
    "Advice:\n",
    "\n",
    "- don't be afraid to first write the program in a non-functional style,\n",
    "- can be eaiser to convert an existing program to a functional style than create from scratch,\n",
    "- answers are in `src/answers.py`.\n",
    "\n",
    "## Exercise\n",
    "\n",
    "The code below sums the total population for the `pac` continent:"
   ]
  },
  {
   "cell_type": "code",
   "execution_count": 20,
   "id": "d248dc49-0813-4330-b5a1-ea7f2ce18585",
   "metadata": {},
   "outputs": [
    {
     "name": "stdout",
     "output_type": "stream",
     "text": [
      "2.08\n"
     ]
    }
   ],
   "source": [
    "from helpers import get_populations\n",
    "\n",
    "populations = get_populations()\n",
    "\n",
    "output = []\n",
    "for city in populations:\n",
    "    if city.continent == 'pac':\n",
    "        output.append(city.population)\n",
    "        \n",
    "total_population = sum(output)\n",
    "print(total_population)"
   ]
  },
  {
   "cell_type": "markdown",
   "id": "0aaa7cba-585c-4766-9743-ecc339b4a295",
   "metadata": {},
   "source": [
    "Convert this code to use `map`, `filter` & `itertools.reduce`:"
   ]
  },
  {
   "cell_type": "code",
   "execution_count": null,
   "id": "09befc83-ef6d-4425-be2e-0ce0f8673ee3",
   "metadata": {},
   "outputs": [],
   "source": []
  },
  {
   "cell_type": "markdown",
   "id": "c1f1c8f7-4fa0-4b70-bab3-e5bb86cc0de7",
   "metadata": {},
   "source": [
    "## Exercise\n",
    "\n",
    "Create a data processing pipeline that selects the cities that have populations greater than the average of all cities.\n",
    "\n",
    "Two steps:\n",
    "\n",
    "1. calculate the average city population (with our without reduce),\n",
    "2. use a filter to select.\n",
    "\n",
    "Calculating the average via a reduce can be done via incremental mean updating."
   ]
  },
  {
   "cell_type": "code",
   "execution_count": null,
   "id": "6b001ae4-5f7d-4668-93d6-47cf5d701b0e",
   "metadata": {},
   "outputs": [],
   "source": []
  },
  {
   "cell_type": "markdown",
   "id": "0a7b7a60-464d-42f3-ae04-2d8994cdad8c",
   "metadata": {},
   "source": [
    "## Exercise\n",
    "\n",
    "Create a data processing pipeline that finds the average population for both continents.\n",
    "\n",
    "Two steps:\n",
    "\n",
    "1. reduce to (key, populations),\n",
    "2. map to (key, avg)."
   ]
  },
  {
   "cell_type": "code",
   "execution_count": null,
   "id": "3634876e-7414-4c0f-8d17-bb2ae26ecd44",
   "metadata": {},
   "outputs": [],
   "source": []
  },
  {
   "cell_type": "markdown",
   "id": "d2af3a9a-2a76-459d-b7b8-b545aa7cdb51",
   "metadata": {
    "tags": []
   },
   "source": [
    "# Further Reading / References"
   ]
  },
  {
   "cell_type": "markdown",
   "id": "d6bc6eb6-27a2-4cee-a599-9faf37c30f92",
   "metadata": {},
   "source": [
    "[Functional Programming HOWTO](https://docs.python.org/3/howto/functional.html)"
   ]
  }
 ],
 "metadata": {
  "kernelspec": {
   "display_name": "Python 3 (ipykernel)",
   "language": "python",
   "name": "python3"
  },
  "language_info": {
   "codemirror_mode": {
    "name": "ipython",
    "version": 3
   },
   "file_extension": ".py",
   "mimetype": "text/x-python",
   "name": "python",
   "nbconvert_exporter": "python",
   "pygments_lexer": "ipython3",
   "version": "3.8.13"
  }
 },
 "nbformat": 4,
 "nbformat_minor": 5
}
