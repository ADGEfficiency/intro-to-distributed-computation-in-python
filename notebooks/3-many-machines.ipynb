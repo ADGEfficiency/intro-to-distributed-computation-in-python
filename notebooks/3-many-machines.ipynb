{
 "cells": [
  {
   "cell_type": "markdown",
   "id": "5dbde9b1-4645-460c-a993-fd92e0ea02ef",
   "metadata": {
    "tags": []
   },
   "source": [
    "# Distributed Computation on Many Machines"
   ]
  },
  {
   "cell_type": "markdown",
   "id": "b1e85e96-8634-4e1d-9b0d-6e4ddc4a5b2a",
   "metadata": {},
   "source": [
    "## This notebook will not run in Binder!\n",
    "\n",
    "Binder + Dask do not play well (because of `conda`).  You can read this notebook on Binder - to run it you will need to `$ pip install -r requirements-coiled.txt` and run locally.\n",
    "\n",
    "## Outcomes\n",
    "\n",
    "- overview of options for distributed compute in Python in 2022,\n",
    "- demonstration of a AWS/Dask/Coiled/Prefect stack to distribute compute over a cluster on EC2.\n",
    "\n",
    "\n",
    "## Why distribute compute over many machines?\n",
    "\n",
    "Limit on the size of a single machine (largest instance on EC2 etc).\n",
    "\n",
    "Many small machines can be cheaper & larger than the largest single machine.\n",
    "\n",
    "Modern distributed compute platforms/environments will be fault tolerant to failures of individual workers - a single EC2 instance won't be."
   ]
  },
  {
   "cell_type": "markdown",
   "id": "73efe784-017f-4cd3-9b55-12eac5be8cf6",
   "metadata": {},
   "source": [
    "## Ecosystems\n",
    "\n",
    "Spark:\n",
    "\n",
    "- accessing Scala code with Python bindings,\n",
    "- Databricks is a modern way to run Spark.\n",
    "\n",
    "[Ray](https://docs.ray.io/en/latest/index.html) & [Dask](https://docs.dask.org/en/stable/):\n",
    "\n",
    "- distributed compute frameworks,\n",
    "- DAGs for computation.\n",
    "\n",
    "Tensorflow & PyTorch:\n",
    "\n",
    "- multi-GPU training,\n",
    "- accessing C++ code with Python bindings.\n",
    "\n",
    "Plus more - Celery, lots of AWS Lambda...\n",
    "\n",
    "\n",
    "## Our focus\n",
    "\n",
    "A stack of Dask / Coiled / Prefect / EC2.\n",
    "\n",
    "Requires two accounts - AWS account, Coiled account - Prefect account is optional. \n",
    "\n",
    "\n",
    "## Dask\n",
    "\n",
    "Dask is an execution framework - one scheduler is responsible for executing many workers on many tasks.\n",
    "\n",
    "<center><img src=\"../assets/dask.png\" alt=\"Drawing\" style=\"width: 600px;\"/></center>\n",
    "\n",
    "While Dask is a core part of this stack (it gives us concurrent computation - both parallelism + async), we will not write any low level Dask (or Dask DataFrame) code.\n",
    "\n",
    "\n",
    "## Coiled\n",
    "\n",
    "<center><img src=\"../assets/many-machine/f1.png\" alt=\"Drawing\" style=\"width: 600px;\"/></center>\n",
    "\n",
    "Manages AWS infrastructure for running Dask clusters on EC2:\n",
    "\n",
    "- turns a `requirements.txt` into a *software environment* - Docker image with `pip install`,\n",
    "\n",
    "\n",
    "## Prefect\n",
    "\n",
    "Acts as a wrapper around Dask.  Prefect offers more functionality than just Dask execution:\n",
    "\n",
    "- scheduling,\n",
    "- monitoring,\n",
    "- intelligent re-execution of pipelines (aka back-filling).\n",
    "\n",
    "Prefect 2.0 is currently in beta (not yet production ready) - we are using Prefect 2.0.\n",
    "\n",
    "\n",
    "# Prefect & Dask on a Single Machine\n",
    "\n",
    "Let's start by writing the program from the last exercise of the previous notebook:"
   ]
  },
  {
   "cell_type": "code",
   "execution_count": 1,
   "id": "6aa8d488-1d22-4ce9-961c-d0c9cfbb3945",
   "metadata": {},
   "outputs": [
    {
     "name": "stdout",
     "output_type": "stream",
     "text": [
      "13.7 s ± 0 ns per loop (mean ± std. dev. of 1 run, 1 loop each)\n"
     ]
    }
   ],
   "source": [
    "%%timeit -n 1 -r 1\n",
    "!python ../src/naive.py"
   ]
  },
  {
   "cell_type": "markdown",
   "id": "e9819d8d-3d0e-45bb-80e2-30a07f26814e",
   "metadata": {},
   "source": [
    "Now try with naive Prefect:"
   ]
  },
  {
   "cell_type": "code",
   "execution_count": 2,
   "id": "edec622e-ac4d-43a4-a8bc-7b4e8c666f31",
   "metadata": {},
   "outputs": [
    {
     "name": "stdout",
     "output_type": "stream",
     "text": [
      "00:38:31.426 | INFO    | prefect.engine - Created flow run 'dangerous-dogfish' for flow 'main'\n",
      "00:38:31.427 | INFO    | prefect.task_runner.dask - Creating a new Dask cluster with `distributed.deploy.local.LocalCluster`\n",
      "00:38:33.326 | INFO    | prefect.task_runner.dask - The Dask dashboard is available at http://127.0.0.1:8787/status\n",
      "00:38:35.195 | INFO    | Flow run 'dangerous-dogfish' -  downloading http://www.nemweb.com.au/Data_Archive/Wholesale_Electricity/MMSDM/2021/MMSDM_2021_01/MMSDM_Historical_Data_SQLLoader/DATA/PUBLIC_DVD_DISPATCH_UNIT_SCADA_202101010000.zip\n",
      "00:38:35.539 | INFO    | Flow run 'dangerous-dogfish' - Created task run 'download-ccd6cdb6-0' for task 'download'\n",
      "00:38:35.996 | INFO    | Flow run 'dangerous-dogfish' - Submitted task run 'download-ccd6cdb6-0' for execution.\n",
      "00:38:35.997 | INFO    | Flow run 'dangerous-dogfish' -  processing http://www.nemweb.com.au/Data_Archive/Wholesale_Electricity/MMSDM/2021/MMSDM_2021_01/MMSDM_Historical_Data_SQLLoader/DATA/PUBLIC_DVD_DISPATCH_UNIT_SCADA_202101010000.zip\n",
      "00:38:36.304 | INFO    | Flow run 'dangerous-dogfish' - Created task run 'process-1cc53e18-0' for task 'process'\n",
      "00:38:36.334 | INFO    | Flow run 'dangerous-dogfish' - Submitted task run 'process-1cc53e18-0' for execution.\n",
      "00:38:36.335 | INFO    | Flow run 'dangerous-dogfish' -  downloading http://www.nemweb.com.au/Data_Archive/Wholesale_Electricity/MMSDM/2021/MMSDM_2021_02/MMSDM_Historical_Data_SQLLoader/DATA/PUBLIC_DVD_DISPATCH_UNIT_SCADA_202102010000.zip\n",
      "00:38:36.634 | INFO    | Flow run 'dangerous-dogfish' - Created task run 'download-ccd6cdb6-1' for task 'download'\n",
      "00:38:36.667 | INFO    | Flow run 'dangerous-dogfish' - Submitted task run 'download-ccd6cdb6-1' for execution.\n",
      "00:38:36.668 | INFO    | Flow run 'dangerous-dogfish' -  processing http://www.nemweb.com.au/Data_Archive/Wholesale_Electricity/MMSDM/2021/MMSDM_2021_02/MMSDM_Historical_Data_SQLLoader/DATA/PUBLIC_DVD_DISPATCH_UNIT_SCADA_202102010000.zip\n",
      "00:38:36.973 | INFO    | Flow run 'dangerous-dogfish' - Created task run 'process-1cc53e18-1' for task 'process'\n",
      "00:38:37.001 | INFO    | Flow run 'dangerous-dogfish' - Submitted task run 'process-1cc53e18-1' for execution.\n",
      "00:38:37.002 | INFO    | Flow run 'dangerous-dogfish' -  downloading http://www.nemweb.com.au/Data_Archive/Wholesale_Electricity/MMSDM/2021/MMSDM_2021_03/MMSDM_Historical_Data_SQLLoader/DATA/PUBLIC_DVD_DISPATCH_UNIT_SCADA_202103010000.zip\n",
      "00:38:37.312 | INFO    | Flow run 'dangerous-dogfish' - Created task run 'download-ccd6cdb6-2' for task 'download'\n",
      "00:38:37.319 | INFO    | Flow run 'dangerous-dogfish' - Submitted task run 'download-ccd6cdb6-2' for execution.\n",
      "00:38:37.320 | INFO    | Flow run 'dangerous-dogfish' -  processing http://www.nemweb.com.au/Data_Archive/Wholesale_Electricity/MMSDM/2021/MMSDM_2021_03/MMSDM_Historical_Data_SQLLoader/DATA/PUBLIC_DVD_DISPATCH_UNIT_SCADA_202103010000.zip\n",
      "00:38:37.651 | INFO    | Flow run 'dangerous-dogfish' - Created task run 'process-1cc53e18-2' for task 'process'\n",
      "00:38:37.675 | INFO    | Flow run 'dangerous-dogfish' - Submitted task run 'process-1cc53e18-2' for execution.\n",
      "00:38:37.676 | INFO    | Flow run 'dangerous-dogfish' -  downloading http://www.nemweb.com.au/Data_Archive/Wholesale_Electricity/MMSDM/2021/MMSDM_2021_04/MMSDM_Historical_Data_SQLLoader/DATA/PUBLIC_DVD_DISPATCH_UNIT_SCADA_202104010000.zip\n",
      "00:38:37.972 | INFO    | Flow run 'dangerous-dogfish' - Created task run 'download-ccd6cdb6-3' for task 'download'\n",
      "00:38:37.978 | INFO    | Flow run 'dangerous-dogfish' - Submitted task run 'download-ccd6cdb6-3' for execution.\n",
      "00:38:37.979 | INFO    | Flow run 'dangerous-dogfish' -  processing http://www.nemweb.com.au/Data_Archive/Wholesale_Electricity/MMSDM/2021/MMSDM_2021_04/MMSDM_Historical_Data_SQLLoader/DATA/PUBLIC_DVD_DISPATCH_UNIT_SCADA_202104010000.zip\n",
      "00:38:38.306 | INFO    | Flow run 'dangerous-dogfish' - Created task run 'process-1cc53e18-3' for task 'process'\n",
      "00:38:38.330 | INFO    | Flow run 'dangerous-dogfish' - Submitted task run 'process-1cc53e18-3' for execution.\n",
      "00:38:45.987 | INFO    | Flow run 'dangerous-dogfish' - Finished in state Completed('All states completed.')\n",
      "17.3 s ± 0 ns per loop (mean ± std. dev. of 1 run, 1 loop each)\n"
     ]
    }
   ],
   "source": [
    "%%timeit -n 1 -r 1\n",
    "!python ../src/naive_dask_prefect.py"
   ]
  },
  {
   "cell_type": "markdown",
   "id": "29fd3425-7f7a-4e4d-8308-d868990dffcf",
   "metadata": {},
   "source": [
    "Now let's use Prefect with `asyncio`:"
   ]
  },
  {
   "cell_type": "code",
   "execution_count": 3,
   "id": "a524d353-f4fe-4fd7-9b03-f05c3a622302",
   "metadata": {},
   "outputs": [
    {
     "name": "stdout",
     "output_type": "stream",
     "text": [
      "00:38:49.126 | INFO    | prefect.engine - Created flow run 'unnatural-mole' for flow 'main'\n",
      "00:38:49.128 | INFO    | prefect.task_runner.dask - Creating a new Dask cluster with `distributed.deploy.local.LocalCluster`\n",
      "00:38:50.977 | INFO    | prefect.task_runner.dask - The Dask dashboard is available at http://127.0.0.1:8787/status\n",
      "00:38:52.817 | INFO    | Flow run 'unnatural-mole' -  downloading http://www.nemweb.com.au/Data_Archive/Wholesale_Electricity/MMSDM/2021/MMSDM_2021_01/MMSDM_Historical_Data_SQLLoader/DATA/PUBLIC_DVD_DISPATCH_UNIT_SCADA_202101010000.zip\n",
      "00:38:53.117 | INFO    | Flow run 'unnatural-mole' - Created task run 'download-ccd6cdb6-0' for task 'download'\n",
      "00:38:53.595 | INFO    | Flow run 'unnatural-mole' - Submitted task run 'download-ccd6cdb6-0' for execution.\n",
      "00:38:53.595 | INFO    | Flow run 'unnatural-mole' -  processing http://www.nemweb.com.au/Data_Archive/Wholesale_Electricity/MMSDM/2021/MMSDM_2021_01/MMSDM_Historical_Data_SQLLoader/DATA/PUBLIC_DVD_DISPATCH_UNIT_SCADA_202101010000.zip\n",
      "../src/async_prefect.py:38: RuntimeWarning: coroutine 'create_task_run_then_submit' was never awaited\n",
      "  process.submit(url, wait_for=[download_task])\n",
      "00:38:53.595 | INFO    | Flow run 'unnatural-mole' -  downloading http://www.nemweb.com.au/Data_Archive/Wholesale_Electricity/MMSDM/2021/MMSDM_2021_02/MMSDM_Historical_Data_SQLLoader/DATA/PUBLIC_DVD_DISPATCH_UNIT_SCADA_202102010000.zip\n",
      "00:38:53.899 | INFO    | Flow run 'unnatural-mole' - Created task run 'download-ccd6cdb6-1' for task 'download'\n",
      "00:38:53.931 | INFO    | Flow run 'unnatural-mole' - Submitted task run 'download-ccd6cdb6-1' for execution.\n",
      "00:38:53.932 | INFO    | Flow run 'unnatural-mole' -  processing http://www.nemweb.com.au/Data_Archive/Wholesale_Electricity/MMSDM/2021/MMSDM_2021_02/MMSDM_Historical_Data_SQLLoader/DATA/PUBLIC_DVD_DISPATCH_UNIT_SCADA_202102010000.zip\n",
      "00:38:53.932 | INFO    | Flow run 'unnatural-mole' -  downloading http://www.nemweb.com.au/Data_Archive/Wholesale_Electricity/MMSDM/2021/MMSDM_2021_03/MMSDM_Historical_Data_SQLLoader/DATA/PUBLIC_DVD_DISPATCH_UNIT_SCADA_202103010000.zip\n",
      "00:38:54.232 | INFO    | Flow run 'unnatural-mole' - Created task run 'download-ccd6cdb6-2' for task 'download'\n",
      "00:38:54.254 | INFO    | Flow run 'unnatural-mole' - Submitted task run 'download-ccd6cdb6-2' for execution.\n",
      "00:38:54.255 | INFO    | Flow run 'unnatural-mole' -  processing http://www.nemweb.com.au/Data_Archive/Wholesale_Electricity/MMSDM/2021/MMSDM_2021_03/MMSDM_Historical_Data_SQLLoader/DATA/PUBLIC_DVD_DISPATCH_UNIT_SCADA_202103010000.zip\n",
      "00:38:54.255 | INFO    | Flow run 'unnatural-mole' -  downloading http://www.nemweb.com.au/Data_Archive/Wholesale_Electricity/MMSDM/2021/MMSDM_2021_04/MMSDM_Historical_Data_SQLLoader/DATA/PUBLIC_DVD_DISPATCH_UNIT_SCADA_202104010000.zip\n",
      "00:38:54.549 | INFO    | Flow run 'unnatural-mole' - Created task run 'download-ccd6cdb6-3' for task 'download'\n",
      "00:38:54.574 | INFO    | Flow run 'unnatural-mole' - Submitted task run 'download-ccd6cdb6-3' for execution.\n",
      "00:38:54.574 | INFO    | Flow run 'unnatural-mole' -  processing http://www.nemweb.com.au/Data_Archive/Wholesale_Electricity/MMSDM/2021/MMSDM_2021_04/MMSDM_Historical_Data_SQLLoader/DATA/PUBLIC_DVD_DISPATCH_UNIT_SCADA_202104010000.zip\n",
      "00:38:56.908 | INFO    | Flow run 'unnatural-mole' - Finished in state Completed('All states completed.')\n",
      "10.8 s ± 0 ns per loop (mean ± std. dev. of 1 run, 1 loop each)\n"
     ]
    }
   ],
   "source": [
    "%%timeit -n 1 -r 1\n",
    "!python ../src/async_prefect.py"
   ]
  },
  {
   "cell_type": "markdown",
   "id": "00b8a02e-b081-4244-98bf-dcbf8348d09a",
   "metadata": {},
   "source": [
    "# Prefect & Dask Running on a Coiled Cluster (Many Machines)"
   ]
  },
  {
   "cell_type": "markdown",
   "id": "2edcfbad-b322-4a13-a873-dc699f3ce0ec",
   "metadata": {},
   "source": [
    "<center><img src=\"../assets/many-machine/f2.png\" alt=\"Drawing\" style=\"width: 600px;\"/></center>\n",
    "\n",
    "Requires a few accounts to get setup:\n",
    "\n",
    "- AWS account - cluster will run on EC2,\n",
    "- Coiled account - adds & manages AWS infrastructure needed for a Dask cluster.\n",
    "\n",
    "Stack:\n",
    "\n",
    "- EC2,\n",
    "- Dask,\n",
    "- Prefect,\n",
    "- Coiled.\n",
    "\n",
    "Example of running on a Coiled cluster:"
   ]
  },
  {
   "cell_type": "code",
   "execution_count": 4,
   "id": "3b7f4422-2914-41a3-85c0-233694613d4c",
   "metadata": {},
   "outputs": [
    {
     "name": "stdout",
     "output_type": "stream",
     "text": [
      "Creating new software environment\n",
      "Creating new ecr build\n",
      "STEP 1: FROM coiled/default:sha-6b4e896\n",
      "STEP 2: COPY environment.yml environment.yml\n",
      "--> Using cache 715f431717389d9e2bbe2078c5d019fd29c5293c30a365b9bf87ea9ad21e9f3e\n",
      "--> 715f4317173\n",
      "--> Using cache 661e893e3cae54adf001e0665a01de463f3564fe632ee5ea91f90b696d835131\n",
      "STEP 3: RUN conda env update -n coiled -f environment.yml     && rm environment.yml     && conda clean --all -y     && echo \"conda activate coiled\" >> ~/.bashrc\n",
      "--> 661e893e3ca\n",
      "--> Using cache 8e5159d1bd97f7cfb7cb455f2c934ec4c74139efa8d1d34c111818b03c89cd00\n",
      "STEP 4: ENV PATH /opt/conda/envs/coiled/bin:$PATH\n",
      "--> 8e5159d1bd9\n",
      "--> Using cache 539154a40629d3406444a41a4ee44d84aeb160dfe9f86333537c67f3f23a18f0\n",
      "STEP 5: SHELL [\"conda\", \"run\", \"-n\", \"coiled\", \"/bin/bash\", \"-c\"]\n",
      "--> 539154a4062\n",
      "STEP 6: COPY requirements.txt requirements.txt\n",
      "--> Using cache 7e09dc82cfddb980d4e69456f9fda918eebac3759268b1d20c2f8bad2c2ce2d7\n",
      "--> 7e09dc82cfd\n",
      "--> Using cache c22eaadebe87160f8e50cda553911c47918307414354611c11a91b9ff82a72a7\n",
      "STEP 7: RUN pip install -r requirements.txt     && rm requirements.txt\n",
      "STEP 8: COMMIT 2f4a65f7-76cf-4ed3-a5b4-d4136ebf1685\n",
      "--> c22eaadebe8\n",
      "c22eaadebe87160f8e50cda553911c47918307414354611c11a91b9ff82a72a7\n",
      "Docker build succeeded: 2f4a65f7-76cf-4ed3-a5b4-d4136ebf1685\n",
      "Copying blob sha256:d7ec6f642edec4eaa2113a508c979a6227c75b0ecda3eadc9bb04bd283ce70aa\n",
      "Copying blob sha256:f5600c6330da7bb112776ba067a32a9c20842d6ecc8ee3289f1a713b644092f8\n",
      "Copying blob sha256:dfef8986f350d2efb7dd633410dceac30543be620085d9819f42db7067f55f64\n",
      "Getting image source signatures\n",
      "Copying blob sha256:0553ab4c463e8dd22931a5deb37e8014a18cde60d6be1337f4415de56649a947\n",
      "Copying blob sha256:f9f1737b0cb95a46dcc23f3d92e2c44ae578a6e13a5458ee23a6334e27214d31\n",
      "Copying blob sha256:95586cf65be51397fa66deda7dc39e71cde778b158d00667af113db52029d2bb\n",
      "Writing manifest to image destination\n",
      "Storing signatures\n",
      "Copying config sha256:c22eaadebe87160f8e50cda553911c47918307414354611c11a91b9ff82a72a7\n",
      "Copying blob sha256:7c9d09a36b411488af1cd623e30e1b69b13766f6e1b8c8f3d4bbdfe73536093c\n",
      "Copying blob sha256:3d25642f709a227a16971b0539a69a582fcffbe5dfc30b9d75c37ccdf2498ea1\n",
      "Copying blob sha256:3d25642f709a227a16971b0539a69a582fcffbe5dfc30b9d75c37ccdf2498ea1\n",
      "Getting image source signatures\n",
      "Copying blob sha256:d7ec6f642edec4eaa2113a508c979a6227c75b0ecda3eadc9bb04bd283ce70aa\n",
      "Copying blob sha256:0553ab4c463e8dd22931a5deb37e8014a18cde60d6be1337f4415de56649a947\n",
      "Copying blob sha256:dfef8986f350d2efb7dd633410dceac30543be620085d9819f42db7067f55f64\n",
      "Copying blob sha256:f9f1737b0cb95a46dcc23f3d92e2c44ae578a6e13a5458ee23a6334e27214d31\n",
      "Copying blob sha256:95586cf65be51397fa66deda7dc39e71cde778b158d00667af113db52029d2bb\n",
      "Copying blob sha256:f5600c6330da7bb112776ba067a32a9c20842d6ecc8ee3289f1a713b644092f8\n",
      "Copying blob sha256:7c9d09a36b411488af1cd623e30e1b69b13766f6e1b8c8f3d4bbdfe73536093c\n",
      "Writing manifest to image destination\n",
      "Copying config sha256:c22eaadebe87160f8e50cda553911c47918307414354611c11a91b9ff82a72a7\n",
      "Storing signatures\n",
      "Environment created\n",
      "Successfully saved software environment build\n",
      "00:41:17.437 | INFO    | prefect.engine - Created flow run 'tireless-worm' for flow 'main'\n",
      "00:41:17.437 | INFO    | prefect.task_runner.dask - Creating a new Dask cluster with `coiled._beta.cluster.ClusterBeta`\n",
      "00:43:05.039 | INFO    | prefect.task_runner.dask - The Dask dashboard is available at http://54.84.104.240:8787\n",
      "00:43:07.519 | INFO    | Flow run 'tireless-worm' - Created task run 'download-ccd6cdb6-0' for task 'download'\n",
      "00:43:07.846 | INFO    | Flow run 'tireless-worm' - Submitted task run 'download-ccd6cdb6-0' for execution.\n",
      "00:43:08.167 | INFO    | Flow run 'tireless-worm' - Created task run 'process-1cc53e18-0' for task 'process'\n",
      "00:43:08.269 | INFO    | Flow run 'tireless-worm' - Submitted task run 'process-1cc53e18-0' for execution.\n",
      "00:43:08.576 | INFO    | Flow run 'tireless-worm' - Created task run 'download-ccd6cdb6-1' for task 'download'\n",
      "00:43:08.604 | INFO    | Flow run 'tireless-worm' - Submitted task run 'download-ccd6cdb6-1' for execution.\n",
      "00:43:08.912 | INFO    | Flow run 'tireless-worm' - Created task run 'process-1cc53e18-1' for task 'process'\n",
      "00:43:08.940 | INFO    | Flow run 'tireless-worm' - Submitted task run 'process-1cc53e18-1' for execution.\n",
      "00:43:09.311 | INFO    | Flow run 'tireless-worm' - Created task run 'download-ccd6cdb6-2' for task 'download'\n",
      "00:43:09.339 | INFO    | Flow run 'tireless-worm' - Submitted task run 'download-ccd6cdb6-2' for execution.\n",
      "00:43:09.642 | INFO    | Flow run 'tireless-worm' - Created task run 'process-1cc53e18-2' for task 'process'\n",
      "00:43:09.673 | INFO    | Flow run 'tireless-worm' - Submitted task run 'process-1cc53e18-2' for execution.\n",
      "00:43:09.987 | INFO    | Flow run 'tireless-worm' - Created task run 'download-ccd6cdb6-3' for task 'download'\n",
      "00:43:10.020 | INFO    | Flow run 'tireless-worm' - Submitted task run 'download-ccd6cdb6-3' for execution.\n",
      "00:43:10.341 | INFO    | Flow run 'tireless-worm' - Created task run 'process-1cc53e18-3' for task 'process'\n",
      "00:43:10.371 | INFO    | Flow run 'tireless-worm' - Submitted task run 'process-1cc53e18-3' for execution.\n",
      "00:43:31.643 | INFO    | Flow run 'tireless-worm' - Finished in state Completed('All states completed.')\n",
      "4min 34s ± 0 ns per loop (mean ± std. dev. of 1 run, 1 loop each)\n"
     ]
    }
   ],
   "source": [
    "%%timeit -n 1 -r 1\n",
    "!python ../src/dask_coiled_prefect.py"
   ]
  },
  {
   "cell_type": "markdown",
   "id": "d8f39247-11d2-4404-a309-2e1f22bbd876",
   "metadata": {},
   "source": [
    "# Setting up the AWS/Dask/Coiled/Prefect stack\n",
    "\n",
    "## AWS Setup\n",
    "\n",
    "Pre-requisite is an AWS account.\n",
    "\n",
    "First setup a new IAM user (below I call this user `coiled`) with programmatic access (key + secret key) - remember to download / copy your credentials to CSV!\n",
    "\n",
    "We will use this user to manage & run the Coiled cluster on EC2.\n",
    "\n",
    "Create IAM policies & AWS infrastructure so you can run Dask clusters in your AWS account.\n",
    "\n",
    "[Coiled AWS setup](https://docs.coiled.io/user_guide/aws-cli.html). \n",
    "\n",
    "[Coiled IAM policies](https://docs.coiled.io/user_guide/aws_reference.html) - one is for setting up the IAM user (don't need if you are using credentials with admin access)\n",
    "\n",
    "- create 2 IAM policies `coiled-setup` & `coiled-ongoing` from JSON,\n",
    "- attach policies to your IAM user\n",
    "\n",
    "\n",
    "## Coiled account setup\n",
    "\n",
    "Create Coiled account - https://cloud.coiled.io/signup - add your credentials in *Cloud Provider*.\n",
    "\n",
    "Or do the same thing via the shell - create Coiled API token https://cloud.coiled.io/profile:\n",
    "\n",
    "<center><img src=\"../assets/many-machine/f3.png\" alt=\"Drawing\" style=\"width: 600px;\"/></center>\n",
    "\n",
    "```shell\n",
    "$ pip install coiled\n",
    "#  use token here\n",
    "$ coiled login\n",
    "$ coiled setup aws\n",
    "```\n",
    "\n",
    "Wasn't sure how to configure `region` with the browser *Cloud Provider*.\n",
    "\n",
    "Now you can run the Dask example:"
   ]
  },
  {
   "cell_type": "code",
   "execution_count": 5,
   "id": "a4f2b1f7-4902-4bd4-9d2f-bd6714dafec6",
   "metadata": {},
   "outputs": [
    {
     "name": "stdout",
     "output_type": "stream",
     "text": [
      "/Users/adam/.pyenv/versions/kiwi-pycon-talk/lib/python3.8/site-packages/distributed/client.py:1309: VersionMismatchWarning: Mismatched versions found\n",
      "\n",
      "+-------------+----------------+----------------+----------------+\n",
      "| Package     | client         | scheduler      | workers        |\n",
      "+-------------+----------------+----------------+----------------+\n",
      "| dask        | 2022.8.0       | 2022.6.0       | 2022.6.0       |\n",
      "| distributed | 2022.8.0       | 2022.6.0       | 2022.6.0       |\n",
      "| lz4         | None           | 4.0.0          | 4.0.0          |\n",
      "| msgpack     | 1.0.4          | 1.0.3          | 1.0.3          |\n",
      "| numpy       | 1.23.2         | 1.21.6         | 1.21.6         |\n",
      "| pandas      | 1.4.3          | 1.4.2          | 1.4.2          |\n",
      "| python      | 3.8.13.final.0 | 3.9.13.final.0 | 3.9.13.final.0 |\n",
      "| toolz       | 0.12.0         | 0.11.2         | 0.11.2         |\n",
      "+-------------+----------------+----------------+----------------+\n",
      "Notes: \n",
      "-  msgpack: Variation is ok, as long as everything is above 0.6\n",
      "  warnings.warn(version_module.VersionMismatchWarning(msg[0][\"warning\"]))\n",
      "Dask Dashboard: http://54.224.168.157:8787\n",
      "                    x         y\n",
      "name                           \n",
      "Alice    -2724.299840  1.000000\n",
      "Bob       1194.689451  1.000000\n",
      "Charlie    401.357810  1.000000\n",
      "Dan      -1782.660843  1.000000\n",
      "Edith    -1257.002923  0.999999\n",
      "Frank       28.036820  0.999999\n",
      "George     450.306183  1.000000\n",
      "Hannah    -161.520207  1.000000\n",
      "Ingrid    1408.180860  0.999999\n",
      "Jerry    -1060.854840  1.000000\n",
      "Kevin       28.405476  1.000000\n",
      "Laura     -233.501555  1.000000\n",
      "Michael   -938.851880  0.999999\n",
      "Norbert   -318.769079  1.000000\n",
      "Oliver    -186.141198  1.000000\n",
      "Patricia  -647.220926  0.999999\n",
      "Quinn    -1968.774499  1.000000\n",
      "Ray      -2077.393081  1.000000\n",
      "Sarah     1455.830987  1.000000\n",
      "Tim       -488.612531  1.000000\n",
      "Ursula   -1535.271790  1.000000\n",
      "Victor    -340.431427  1.000000\n",
      "Wendy    -1212.841293  1.000000\n",
      "Xavier    -717.128257  0.999999\n",
      "Yvonne    3344.376148  1.000000\n",
      "Zelda     -211.833991  1.000000\n"
     ]
    }
   ],
   "source": [
    "!python ../src/dask_coiled.py"
   ]
  },
  {
   "cell_type": "markdown",
   "id": "eefd5264-7368-49a7-ade2-cd3979d7be32",
   "metadata": {},
   "source": [
    "## Optional - Adding Prefect Cloud\n",
    "\n",
    "<center><img src=\"../assets/many-machine/f4.png\" alt=\"Drawing\" style=\"width: 600px;\"/></center>\n",
    "\n",
    "\n",
    "```shell\n",
    "$ prefect cloud workspace set --workspace \"adamgreenadgefficiencycom/kiwipycon-tutorial\"\n",
    "$ prefect cloud login -k $YOUR_PREFECT_API_KEY\n",
    "```\n",
    "\n",
    "\n",
    "## Exercise\n",
    "\n",
    "1. Setup this Dask/Coiled stack on an EC2 cluster,\n",
    "2. Add Prefect Cloud."
   ]
  },
  {
   "cell_type": "code",
   "execution_count": null,
   "id": "33ef58f0-41cf-4108-ba1d-ad9374dcd8c7",
   "metadata": {},
   "outputs": [],
   "source": []
  }
 ],
 "metadata": {
  "kernelspec": {
   "display_name": "Python 3 (ipykernel)",
   "language": "python",
   "name": "python3"
  },
  "language_info": {
   "codemirror_mode": {
    "name": "ipython",
    "version": 3
   },
   "file_extension": ".py",
   "mimetype": "text/x-python",
   "name": "python",
   "nbconvert_exporter": "python",
   "pygments_lexer": "ipython3",
   "version": "3.8.13"
  }
 },
 "nbformat": 4,
 "nbformat_minor": 5
}
