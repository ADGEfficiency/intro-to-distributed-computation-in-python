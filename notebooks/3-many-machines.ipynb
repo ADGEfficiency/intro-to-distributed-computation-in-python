{
 "cells": [
  {
   "cell_type": "markdown",
   "id": "5dbde9b1-4645-460c-a993-fd92e0ea02ef",
   "metadata": {
    "tags": []
   },
   "source": [
    "# Distributed Computation on Many Machines"
   ]
  },
  {
   "cell_type": "markdown",
   "id": "b1e85e96-8634-4e1d-9b0d-6e4ddc4a5b2a",
   "metadata": {},
   "source": [
    "## This notebook will not run in Binder!\n",
    "\n",
    "Binder + Dask do not play well (because of `conda`).  You can read this notebook on Binder - to run it you will need to `$ pip install -r requirements-coiled.txt` and run locally.\n",
    "\n",
    "## Outcomes\n",
    "\n",
    "- overview of options for distributed compute in Python in 2022,\n",
    "- demonstration of a AWS/Dask/Coiled/Prefect stack to distribute compute over a cluster on EC2.\n",
    "\n",
    "\n",
    "## Why distribute compute over many machines?\n",
    "\n",
    "Limit on the size of a single machine (largest instance on EC2 etc).\n",
    "\n",
    "Many small machines can be cheaper & larger than the largest single machine.\n",
    "\n",
    "Modern distributed compute platforms/environments will be fault tolerant to failures of individual workers - a single EC2 instance won't be."
   ]
  },
  {
   "cell_type": "markdown",
   "id": "73efe784-017f-4cd3-9b55-12eac5be8cf6",
   "metadata": {},
   "source": [
    "## Ecosystems\n",
    "\n",
    "Spark:\n",
    "\n",
    "- accessing Scala code with Python bindings,\n",
    "- Databricks is a modern way to run Spark.\n",
    "\n",
    "[Ray](https://docs.ray.io/en/latest/index.html) & [Dask](https://docs.dask.org/en/stable/):\n",
    "\n",
    "- distributed compute frameworks,\n",
    "- Ray is C++ with Python bindings, Dask only Python (?),\n",
    "- DAGs for computation.\n",
    "\n",
    "Tensorflow & PyTorch:\n",
    "\n",
    "- multi-GPU training,\n",
    "- accessing C++ code with Python bindings.\n",
    "\n",
    "Plus more - Celery, lots of AWS Lambda...\n",
    "\n",
    "\n",
    "## Our focus\n",
    "\n",
    "A stack of Dask / Coiled / Prefect / EC2.\n",
    "\n",
    "Requires two accounts - AWS account, Coiled account - Prefect account is optional. \n",
    "\n",
    "\n",
    "## Dask\n",
    "\n",
    "[documentation](https://docs.dask.org/en/stable/)\n",
    "\n",
    "Dask is an execution framework - one scheduler is responsible for executing many workers on many tasks.\n",
    "\n",
    "<center><img src=\"../assets/dask.png\" alt=\"Drawing\" style=\"width: 600px;\"/></center>\n",
    "\n",
    "While Dask is a core part of this stack (it gives us concurrent computation - both parallelism + async), we will not write any low level Dask (or Dask DataFrame) code.\n",
    "\n",
    "\n",
    "## Coiled\n",
    "\n",
    "[documentation](https://docs.coiled.io)\n",
    "\n",
    "<center><img src=\"../assets/coiled-architecture.png\" alt=\"Drawing\" style=\"width: 600px;\"/></center>\n",
    "\n",
    "Manages AWS infrastructure for running Dask clusters on EC2:\n",
    "\n",
    "- turns a `requirements.txt` into a *software environment* - Docker image with `pip install`,\n",
    "\n",
    "\n",
    "## Prefect\n",
    "\n",
    "[documentation Prefect 2.0](https://docs.prefect.io/)\n",
    "\n",
    "Acts as a wrapper around Dask.  Prefect offers more functionality than just Dask execution:\n",
    "\n",
    "- scheduling,\n",
    "- monitoring,\n",
    "- intelligent re-execution of pipelines (aka back-filling).\n",
    "\n",
    "Prefect 2.0 is currently in beta (not yet production ready) - we will be using Prefect 2.0.\n",
    "\n",
    "\n",
    "# Prefect & Dask on a Single Machine\n",
    "\n",
    "Let's start by writing the program from the last exercise of the previous notebook:"
   ]
  },
  {
   "cell_type": "code",
   "execution_count": 1,
   "id": "6aa8d488-1d22-4ce9-961c-d0c9cfbb3945",
   "metadata": {},
   "outputs": [
    {
     "name": "stdout",
     "output_type": "stream",
     "text": [
      "15.1 s ± 0 ns per loop (mean ± std. dev. of 1 run, 1 loop each)\n"
     ]
    }
   ],
   "source": [
    "%%timeit -n 1 -r 1\n",
    "!python ../src/naive.py"
   ]
  },
  {
   "cell_type": "markdown",
   "id": "e9819d8d-3d0e-45bb-80e2-30a07f26814e",
   "metadata": {},
   "source": [
    "Now try with naive Prefect:"
   ]
  },
  {
   "cell_type": "code",
   "execution_count": 2,
   "id": "edec622e-ac4d-43a4-a8bc-7b4e8c666f31",
   "metadata": {},
   "outputs": [
    {
     "name": "stdout",
     "output_type": "stream",
     "text": [
      "12:29:28.700 | INFO    | prefect.engine - Created flow run 'cute-mussel' for flow 'main'\n",
      "12:29:28.701 | INFO    | prefect.task_runner.dask - Creating a new Dask cluster with `distributed.deploy.local.LocalCluster`\n",
      "12:29:30.737 | INFO    | prefect.task_runner.dask - The Dask dashboard is available at http://127.0.0.1:8787/status\n",
      "12:29:32.588 | INFO    | Flow run 'cute-mussel' -  downloading http://www.nemweb.com.au/Data_Archive/Wholesale_Electricity/MMSDM/2021/MMSDM_2021_01/MMSDM_Historical_Data_SQLLoader/DATA/PUBLIC_DVD_DISPATCH_UNIT_SCADA_202101010000.zip\n",
      "12:29:32.900 | INFO    | Flow run 'cute-mussel' - Created task run 'download-ccd6cdb6-0' for task 'download'\n",
      "12:29:33.380 | INFO    | Flow run 'cute-mussel' - Submitted task run 'download-ccd6cdb6-0' for execution.\n",
      "12:29:33.380 | INFO    | Flow run 'cute-mussel' -  processing http://www.nemweb.com.au/Data_Archive/Wholesale_Electricity/MMSDM/2021/MMSDM_2021_01/MMSDM_Historical_Data_SQLLoader/DATA/PUBLIC_DVD_DISPATCH_UNIT_SCADA_202101010000.zip\n",
      "12:29:33.682 | INFO    | Flow run 'cute-mussel' - Created task run 'process-1cc53e18-0' for task 'process'\n",
      "12:29:33.719 | INFO    | Flow run 'cute-mussel' - Submitted task run 'process-1cc53e18-0' for execution.\n",
      "12:29:33.721 | INFO    | Flow run 'cute-mussel' -  downloading http://www.nemweb.com.au/Data_Archive/Wholesale_Electricity/MMSDM/2021/MMSDM_2021_02/MMSDM_Historical_Data_SQLLoader/DATA/PUBLIC_DVD_DISPATCH_UNIT_SCADA_202102010000.zip\n",
      "12:29:34.021 | INFO    | Flow run 'cute-mussel' - Created task run 'download-ccd6cdb6-1' for task 'download'\n",
      "12:29:34.049 | INFO    | Flow run 'cute-mussel' - Submitted task run 'download-ccd6cdb6-1' for execution.\n",
      "12:29:34.050 | INFO    | Flow run 'cute-mussel' -  processing http://www.nemweb.com.au/Data_Archive/Wholesale_Electricity/MMSDM/2021/MMSDM_2021_02/MMSDM_Historical_Data_SQLLoader/DATA/PUBLIC_DVD_DISPATCH_UNIT_SCADA_202102010000.zip\n",
      "12:29:34.349 | INFO    | Flow run 'cute-mussel' - Created task run 'process-1cc53e18-1' for task 'process'\n",
      "12:29:34.373 | INFO    | Flow run 'cute-mussel' - Submitted task run 'process-1cc53e18-1' for execution.\n",
      "12:29:34.374 | INFO    | Flow run 'cute-mussel' -  downloading http://www.nemweb.com.au/Data_Archive/Wholesale_Electricity/MMSDM/2021/MMSDM_2021_03/MMSDM_Historical_Data_SQLLoader/DATA/PUBLIC_DVD_DISPATCH_UNIT_SCADA_202103010000.zip\n",
      "12:29:34.681 | INFO    | Flow run 'cute-mussel' - Created task run 'download-ccd6cdb6-2' for task 'download'\n",
      "12:29:34.688 | INFO    | Flow run 'cute-mussel' - Submitted task run 'download-ccd6cdb6-2' for execution.\n",
      "12:29:34.688 | INFO    | Flow run 'cute-mussel' -  processing http://www.nemweb.com.au/Data_Archive/Wholesale_Electricity/MMSDM/2021/MMSDM_2021_03/MMSDM_Historical_Data_SQLLoader/DATA/PUBLIC_DVD_DISPATCH_UNIT_SCADA_202103010000.zip\n",
      "12:29:34.986 | INFO    | Flow run 'cute-mussel' - Created task run 'process-1cc53e18-2' for task 'process'\n",
      "12:29:35.006 | INFO    | Flow run 'cute-mussel' - Submitted task run 'process-1cc53e18-2' for execution.\n",
      "12:29:35.007 | INFO    | Flow run 'cute-mussel' -  downloading http://www.nemweb.com.au/Data_Archive/Wholesale_Electricity/MMSDM/2021/MMSDM_2021_04/MMSDM_Historical_Data_SQLLoader/DATA/PUBLIC_DVD_DISPATCH_UNIT_SCADA_202104010000.zip\n",
      "12:29:35.326 | INFO    | Flow run 'cute-mussel' - Created task run 'download-ccd6cdb6-3' for task 'download'\n",
      "12:29:35.333 | INFO    | Flow run 'cute-mussel' - Submitted task run 'download-ccd6cdb6-3' for execution.\n",
      "12:29:35.333 | INFO    | Flow run 'cute-mussel' -  processing http://www.nemweb.com.au/Data_Archive/Wholesale_Electricity/MMSDM/2021/MMSDM_2021_04/MMSDM_Historical_Data_SQLLoader/DATA/PUBLIC_DVD_DISPATCH_UNIT_SCADA_202104010000.zip\n",
      "12:29:35.662 | INFO    | Flow run 'cute-mussel' - Created task run 'process-1cc53e18-3' for task 'process'\n",
      "12:29:35.668 | INFO    | Flow run 'cute-mussel' - Submitted task run 'process-1cc53e18-3' for execution.\n",
      "12:29:41.481 | INFO    | Flow run 'cute-mussel' - Finished in state Completed('All states completed.')\n",
      "15.9 s ± 0 ns per loop (mean ± std. dev. of 1 run, 1 loop each)\n"
     ]
    }
   ],
   "source": [
    "%%timeit -n 1 -r 1\n",
    "!python ../src/naive_dask_prefect.py"
   ]
  },
  {
   "cell_type": "markdown",
   "id": "29fd3425-7f7a-4e4d-8308-d868990dffcf",
   "metadata": {},
   "source": [
    "Now let's use Prefect with `asyncio`:"
   ]
  },
  {
   "cell_type": "code",
   "execution_count": 3,
   "id": "a524d353-f4fe-4fd7-9b03-f05c3a622302",
   "metadata": {},
   "outputs": [
    {
     "name": "stdout",
     "output_type": "stream",
     "text": [
      "12:29:44.314 | INFO    | prefect.engine - Created flow run 'garnet-ara' for flow 'main'\n",
      "12:29:44.316 | INFO    | prefect.task_runner.dask - Creating a new Dask cluster with `distributed.deploy.local.LocalCluster`\n",
      "12:29:46.068 | INFO    | prefect.task_runner.dask - The Dask dashboard is available at http://127.0.0.1:8787/status\n",
      "12:29:47.885 | INFO    | Flow run 'garnet-ara' -  downloading http://www.nemweb.com.au/Data_Archive/Wholesale_Electricity/MMSDM/2021/MMSDM_2021_01/MMSDM_Historical_Data_SQLLoader/DATA/PUBLIC_DVD_DISPATCH_UNIT_SCADA_202101010000.zip\n",
      "12:29:48.189 | INFO    | Flow run 'garnet-ara' - Created task run 'download-ccd6cdb6-0' for task 'download'\n",
      "12:29:48.664 | INFO    | Flow run 'garnet-ara' - Submitted task run 'download-ccd6cdb6-0' for execution.\n",
      "12:29:48.664 | INFO    | Flow run 'garnet-ara' -  processing http://www.nemweb.com.au/Data_Archive/Wholesale_Electricity/MMSDM/2021/MMSDM_2021_01/MMSDM_Historical_Data_SQLLoader/DATA/PUBLIC_DVD_DISPATCH_UNIT_SCADA_202101010000.zip\n",
      "../src/async_prefect.py:38: RuntimeWarning: coroutine 'create_task_run_then_submit' was never awaited\n",
      "  process.submit(url, wait_for=[download_task])\n",
      "12:29:48.664 | INFO    | Flow run 'garnet-ara' -  downloading http://www.nemweb.com.au/Data_Archive/Wholesale_Electricity/MMSDM/2021/MMSDM_2021_02/MMSDM_Historical_Data_SQLLoader/DATA/PUBLIC_DVD_DISPATCH_UNIT_SCADA_202102010000.zip\n",
      "12:29:49.093 | INFO    | Flow run 'garnet-ara' - Created task run 'download-ccd6cdb6-1' for task 'download'\n",
      "12:29:49.119 | INFO    | Flow run 'garnet-ara' - Submitted task run 'download-ccd6cdb6-1' for execution.\n",
      "12:29:49.119 | INFO    | Flow run 'garnet-ara' -  processing http://www.nemweb.com.au/Data_Archive/Wholesale_Electricity/MMSDM/2021/MMSDM_2021_02/MMSDM_Historical_Data_SQLLoader/DATA/PUBLIC_DVD_DISPATCH_UNIT_SCADA_202102010000.zip\n",
      "12:29:49.120 | INFO    | Flow run 'garnet-ara' -  downloading http://www.nemweb.com.au/Data_Archive/Wholesale_Electricity/MMSDM/2021/MMSDM_2021_03/MMSDM_Historical_Data_SQLLoader/DATA/PUBLIC_DVD_DISPATCH_UNIT_SCADA_202103010000.zip\n",
      "12:29:49.415 | INFO    | Flow run 'garnet-ara' - Created task run 'download-ccd6cdb6-2' for task 'download'\n",
      "12:29:49.435 | INFO    | Flow run 'garnet-ara' - Submitted task run 'download-ccd6cdb6-2' for execution.\n",
      "12:29:49.435 | INFO    | Flow run 'garnet-ara' -  processing http://www.nemweb.com.au/Data_Archive/Wholesale_Electricity/MMSDM/2021/MMSDM_2021_03/MMSDM_Historical_Data_SQLLoader/DATA/PUBLIC_DVD_DISPATCH_UNIT_SCADA_202103010000.zip\n",
      "12:29:49.436 | INFO    | Flow run 'garnet-ara' -  downloading http://www.nemweb.com.au/Data_Archive/Wholesale_Electricity/MMSDM/2021/MMSDM_2021_04/MMSDM_Historical_Data_SQLLoader/DATA/PUBLIC_DVD_DISPATCH_UNIT_SCADA_202104010000.zip\n",
      "12:29:49.731 | INFO    | Flow run 'garnet-ara' - Created task run 'download-ccd6cdb6-3' for task 'download'\n",
      "12:29:49.748 | INFO    | Flow run 'garnet-ara' - Submitted task run 'download-ccd6cdb6-3' for execution.\n",
      "12:29:49.749 | INFO    | Flow run 'garnet-ara' -  processing http://www.nemweb.com.au/Data_Archive/Wholesale_Electricity/MMSDM/2021/MMSDM_2021_04/MMSDM_Historical_Data_SQLLoader/DATA/PUBLIC_DVD_DISPATCH_UNIT_SCADA_202104010000.zip\n",
      "12:29:51.992 | INFO    | Flow run 'garnet-ara' - Finished in state Completed('All states completed.')\n",
      "10.5 s ± 0 ns per loop (mean ± std. dev. of 1 run, 1 loop each)\n"
     ]
    }
   ],
   "source": [
    "%%timeit -n 1 -r 1\n",
    "!python ../src/async_prefect.py"
   ]
  },
  {
   "cell_type": "markdown",
   "id": "00b8a02e-b081-4244-98bf-dcbf8348d09a",
   "metadata": {},
   "source": [
    "# Prefect & Dask Running on a Coiled Cluster (Many Machines)"
   ]
  },
  {
   "cell_type": "markdown",
   "id": "2edcfbad-b322-4a13-a873-dc699f3ce0ec",
   "metadata": {},
   "source": [
    "<center><img src=\"../assets/many-machine/f2.png\" alt=\"Drawing\" style=\"width: 600px;\"/></center>\n",
    "\n",
    "Requires a few accounts to get setup:\n",
    "\n",
    "- AWS account - cluster will run on EC2,\n",
    "- Coiled account - adds & manages AWS infrastructure needed for a Dask cluster.\n",
    "\n",
    "Stack:\n",
    "\n",
    "- EC2,\n",
    "- Dask,\n",
    "- Prefect,\n",
    "- Coiled.\n",
    "\n",
    "Example of running on a Coiled cluster:"
   ]
  },
  {
   "cell_type": "code",
   "execution_count": 4,
   "id": "3b7f4422-2914-41a3-85c0-233694613d4c",
   "metadata": {},
   "outputs": [
    {
     "name": "stdout",
     "output_type": "stream",
     "text": [
      "Found existing software environment build, returning\n",
      "12:30:01.731 | INFO    | prefect.engine - Created flow run 'nocturnal-pig' for flow 'main'\n",
      "12:30:01.732 | INFO    | prefect.task_runner.dask - Creating a new Dask cluster with `coiled._beta.cluster.ClusterBeta`\n",
      "12:31:49.829 | INFO    | prefect.task_runner.dask - The Dask dashboard is available at http://54.159.62.29:8787\n",
      "12:31:52.064 | INFO    | Flow run 'nocturnal-pig' - Created task run 'download-ccd6cdb6-0' for task 'download'\n",
      "12:31:52.387 | INFO    | Flow run 'nocturnal-pig' - Submitted task run 'download-ccd6cdb6-0' for execution.\n",
      "12:31:52.780 | INFO    | Flow run 'nocturnal-pig' - Created task run 'process-1cc53e18-0' for task 'process'\n",
      "12:31:52.886 | INFO    | Flow run 'nocturnal-pig' - Submitted task run 'process-1cc53e18-0' for execution.\n",
      "12:31:53.183 | INFO    | Flow run 'nocturnal-pig' - Created task run 'download-ccd6cdb6-1' for task 'download'\n",
      "12:31:53.210 | INFO    | Flow run 'nocturnal-pig' - Submitted task run 'download-ccd6cdb6-1' for execution.\n",
      "12:31:53.505 | INFO    | Flow run 'nocturnal-pig' - Created task run 'process-1cc53e18-1' for task 'process'\n",
      "12:31:53.534 | INFO    | Flow run 'nocturnal-pig' - Submitted task run 'process-1cc53e18-1' for execution.\n",
      "12:31:53.836 | INFO    | Flow run 'nocturnal-pig' - Created task run 'download-ccd6cdb6-2' for task 'download'\n",
      "12:31:53.862 | INFO    | Flow run 'nocturnal-pig' - Submitted task run 'download-ccd6cdb6-2' for execution.\n",
      "12:31:54.154 | INFO    | Flow run 'nocturnal-pig' - Created task run 'process-1cc53e18-2' for task 'process'\n",
      "12:31:54.178 | INFO    | Flow run 'nocturnal-pig' - Submitted task run 'process-1cc53e18-2' for execution.\n",
      "12:31:54.475 | INFO    | Flow run 'nocturnal-pig' - Created task run 'download-ccd6cdb6-3' for task 'download'\n",
      "12:31:54.503 | INFO    | Flow run 'nocturnal-pig' - Submitted task run 'download-ccd6cdb6-3' for execution.\n",
      "12:31:54.799 | INFO    | Flow run 'nocturnal-pig' - Created task run 'process-1cc53e18-3' for task 'process'\n",
      "12:31:54.827 | INFO    | Flow run 'nocturnal-pig' - Submitted task run 'process-1cc53e18-3' for execution.\n",
      "12:32:09.245 | INFO    | Flow run 'nocturnal-pig' - Finished in state Completed('All states completed.')\n",
      "2min 17s ± 0 ns per loop (mean ± std. dev. of 1 run, 1 loop each)\n"
     ]
    }
   ],
   "source": [
    "%%timeit -n 1 -r 1\n",
    "!python ../src/dask_coiled_prefect.py"
   ]
  },
  {
   "cell_type": "markdown",
   "id": "d8f39247-11d2-4404-a309-2e1f22bbd876",
   "metadata": {},
   "source": [
    "# Setting up the AWS/Dask/Coiled/Prefect stack\n",
    "\n",
    "## AWS Setup\n",
    "\n",
    "Pre-requisite is an AWS account.\n",
    "\n",
    "First setup a new IAM user (below I call this user `coiled`) with programmatic access (key + secret key) - remember to download / copy your credentials to CSV!\n",
    "\n",
    "We will use this user to manage & run the Coiled cluster on EC2.\n",
    "\n",
    "Create IAM policies & AWS infrastructure so you can run Dask clusters in your AWS account.\n",
    "\n",
    "[Coiled AWS setup](https://docs.coiled.io/user_guide/aws-cli.html). \n",
    "\n",
    "[Coiled IAM policies](https://docs.coiled.io/user_guide/aws_reference.html) - one is for setting up the IAM user (don't need if you are using credentials with admin access)\n",
    "\n",
    "- create 2 IAM policies `coiled-setup` & `coiled-ongoing` from JSON,\n",
    "- attach policies to your IAM user\n",
    "\n",
    "\n",
    "## Coiled account setup\n",
    "\n",
    "Create Coiled account - https://cloud.coiled.io/signup - add your credentials in *Cloud Provider*.\n",
    "\n",
    "Or do the same thing via the shell - create Coiled API token https://cloud.coiled.io/profile:\n",
    "\n",
    "<center><img src=\"../assets/many-machine/f3.png\" alt=\"Drawing\" style=\"width: 600px;\"/></center>\n",
    "\n",
    "```shell\n",
    "$ pip install coiled\n",
    "#  use token here\n",
    "$ coiled login\n",
    "$ coiled setup aws\n",
    "```\n",
    "\n",
    "Wasn't sure how to configure `region` with the browser *Cloud Provider*.\n",
    "\n",
    "Now you can run the Dask example:"
   ]
  },
  {
   "cell_type": "code",
   "execution_count": 5,
   "id": "a4f2b1f7-4902-4bd4-9d2f-bd6714dafec6",
   "metadata": {},
   "outputs": [
    {
     "name": "stdout",
     "output_type": "stream",
     "text": [
      "/Users/adam/.pyenv/versions/kiwi-pycon-talk/lib/python3.8/site-packages/distributed/client.py:1309: VersionMismatchWarning: Mismatched versions found\n",
      "\n",
      "+-------------+----------------+----------------+----------------+\n",
      "| Package     | client         | scheduler      | workers        |\n",
      "+-------------+----------------+----------------+----------------+\n",
      "| dask        | 2022.8.0       | 2022.6.0       | 2022.6.0       |\n",
      "| distributed | 2022.8.0       | 2022.6.0       | 2022.6.0       |\n",
      "| lz4         | None           | 4.0.0          | 4.0.0          |\n",
      "| msgpack     | 1.0.4          | 1.0.3          | 1.0.3          |\n",
      "| numpy       | 1.23.2         | 1.21.6         | 1.21.6         |\n",
      "| pandas      | 1.4.3          | 1.4.2          | 1.4.2          |\n",
      "| python      | 3.8.13.final.0 | 3.9.13.final.0 | 3.9.13.final.0 |\n",
      "| toolz       | 0.12.0         | 0.11.2         | 0.11.2         |\n",
      "+-------------+----------------+----------------+----------------+\n",
      "Notes: \n",
      "-  msgpack: Variation is ok, as long as everything is above 0.6\n",
      "  warnings.warn(version_module.VersionMismatchWarning(msg[0][\"warning\"]))\n",
      "Dask Dashboard: http://3.91.66.177:8787\n",
      "                    x         y\n",
      "name                           \n",
      "Alice     2706.025447  0.999999\n",
      "Bob       1048.086934  1.000000\n",
      "Charlie   -231.594495  1.000000\n",
      "Dan      -1151.770903  1.000000\n",
      "Edith     2540.098741  0.999999\n",
      "Frank     1743.364791  1.000000\n",
      "George   -1969.257226  1.000000\n",
      "Hannah    -316.426771  0.999999\n",
      "Ingrid   -1271.423909  1.000000\n",
      "Jerry     -287.140158  0.999999\n",
      "Kevin     1805.536276  1.000000\n",
      "Laura     1413.506675  1.000000\n",
      "Michael    -24.305839  1.000000\n",
      "Norbert  -1354.229092  1.000000\n",
      "Oliver   -2292.394865  0.999999\n",
      "Patricia  -747.154756  0.999999\n",
      "Quinn      486.452140  1.000000\n",
      "Ray       -127.411085  1.000000\n",
      "Sarah     -160.057334  1.000000\n",
      "Tim       2099.969440  1.000000\n",
      "Ursula    -714.192540  1.000000\n",
      "Victor    1452.206801  1.000000\n",
      "Wendy     1544.946937  1.000000\n",
      "Xavier     395.757433  0.999999\n",
      "Yvonne     290.130055  0.999999\n",
      "Zelda     -635.825693  0.999999\n"
     ]
    }
   ],
   "source": [
    "!python ../src/dask_coiled.py"
   ]
  },
  {
   "cell_type": "markdown",
   "id": "eefd5264-7368-49a7-ade2-cd3979d7be32",
   "metadata": {},
   "source": [
    "## Optional - Adding Prefect Cloud\n",
    "\n",
    "<center><img src=\"../assets/many-machine/f4.png\" alt=\"Drawing\" style=\"width: 600px;\"/></center>\n",
    "\n",
    "\n",
    "```shell\n",
    "$ prefect cloud workspace set --workspace \"adamgreenadgefficiencycom/kiwipycon-tutorial\"\n",
    "$ prefect cloud login -k $YOUR_PREFECT_API_KEY\n",
    "```\n",
    "\n",
    "\n",
    "## Exercise\n",
    "\n",
    "1. Setup this Dask/Coiled stack on an EC2 cluster,\n",
    "2. Add Prefect Cloud."
   ]
  },
  {
   "cell_type": "code",
   "execution_count": null,
   "id": "33ef58f0-41cf-4108-ba1d-ad9374dcd8c7",
   "metadata": {},
   "outputs": [],
   "source": []
  }
 ],
 "metadata": {
  "kernelspec": {
   "display_name": "Python 3 (ipykernel)",
   "language": "python",
   "name": "python3"
  },
  "language_info": {
   "codemirror_mode": {
    "name": "ipython",
    "version": 3
   },
   "file_extension": ".py",
   "mimetype": "text/x-python",
   "name": "python",
   "nbconvert_exporter": "python",
   "pygments_lexer": "ipython3",
   "version": "3.8.13"
  }
 },
 "nbformat": 4,
 "nbformat_minor": 5
}
